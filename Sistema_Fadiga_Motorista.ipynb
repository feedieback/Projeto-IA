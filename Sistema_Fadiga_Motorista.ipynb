{
 "cells": [
  {
   "cell_type": "markdown",
   "id": "12870081",
   "metadata": {},
   "source": [
    "# 🧠 Sistema de Detecção de Fadiga com CNN + Fuzzy\n",
    "Este notebook mostra como usar os módulos do sistema de forma interativa."
   ]
  },
  {
   "cell_type": "markdown",
   "id": "89926a23",
   "metadata": {},
   "source": [
    "## 📦 Instale as dependências"
   ]
  },
  {
   "cell_type": "code",
   "execution_count": null,
   "id": "a5329b57",
   "metadata": {},
   "outputs": [],
   "source": [
    "!pip install tensorflow opencv-python mediapipe scikit-fuzzy"
   ]
  },
  {
   "cell_type": "markdown",
   "id": "094f97fb",
   "metadata": {},
   "source": [
    "## 📁 Treinar o modelo CNN"
   ]
  },
  {
   "cell_type": "code",
   "execution_count": null,
   "id": "080189d8",
   "metadata": {},
   "outputs": [],
   "source": [
    "from scripts.train_model import *  # ou rode via script: !python scripts/train_model.py"
   ]
  },
  {
   "cell_type": "markdown",
   "id": "4dcd9a28",
   "metadata": {},
   "source": [
    "## 👁️ Testar extração dos olhos"
   ]
  },
  {
   "cell_type": "code",
   "execution_count": null,
   "id": "1faa8fc6",
   "metadata": {},
   "outputs": [],
   "source": [
    "!python scripts/eye_extractor.py"
   ]
  },
  {
   "cell_type": "markdown",
   "id": "37263d30",
   "metadata": {},
   "source": [
    "## 🧠 Testar fuzzy individualmente"
   ]
  },
  {
   "cell_type": "code",
   "execution_count": null,
   "id": "c3412639",
   "metadata": {},
   "outputs": [],
   "source": [
    "from fuzzy.fuzzy_system import calcular_nivel_fadiga\n",
    "\n",
    "nivel = calcular_nivel_fadiga(0.1, 0.2, 0.18)\n",
    "print(f'Nível de fadiga estimado: {nivel:.2f}')"
   ]
  },
  {
   "cell_type": "markdown",
   "id": "95d97bb2",
   "metadata": {},
   "source": [
    "## 🎥 Rodar o sistema completo"
   ]
  },
  {
   "cell_type": "code",
   "execution_count": null,
   "id": "8136b330",
   "metadata": {},
   "outputs": [],
   "source": [
    "!python scripts/real_time_detect.py"
   ]
  }
 ],
 "metadata": {},
 "nbformat": 4,
 "nbformat_minor": 5
}